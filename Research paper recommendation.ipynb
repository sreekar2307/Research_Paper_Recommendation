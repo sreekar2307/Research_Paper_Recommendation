{
 "cells": [
  {
   "cell_type": "code",
   "execution_count": 1,
   "metadata": {},
   "outputs": [],
   "source": [
    "import pandas as pd\n",
    "import numpy as np\n",
    "from gensim.test.utils import common_texts\n",
    "from gensim.models.doc2vec import Doc2Vec, TaggedDocument"
   ]
  },
  {
   "cell_type": "code",
   "execution_count": 2,
   "metadata": {
    "scrolled": true
   },
   "outputs": [],
   "source": [
    "data = pd.read_csv('extract100.tsv',sep='\\t',names=['index','Title'])\n",
    "data.drop(columns=['index'],inplace=True)"
   ]
  },
  {
   "cell_type": "code",
   "execution_count": 3,
   "metadata": {},
   "outputs": [
    {
     "data": {
      "text/html": [
       "<div>\n",
       "<style scoped>\n",
       "    .dataframe tbody tr th:only-of-type {\n",
       "        vertical-align: middle;\n",
       "    }\n",
       "\n",
       "    .dataframe tbody tr th {\n",
       "        vertical-align: top;\n",
       "    }\n",
       "\n",
       "    .dataframe thead th {\n",
       "        text-align: right;\n",
       "    }\n",
       "</style>\n",
       "<table border=\"1\" class=\"dataframe\">\n",
       "  <thead>\n",
       "    <tr style=\"text-align: right;\">\n",
       "      <th></th>\n",
       "      <th>Title</th>\n",
       "    </tr>\n",
       "  </thead>\n",
       "  <tbody>\n",
       "    <tr>\n",
       "      <td>0</td>\n",
       "      <td>Book Review: Discover Linux</td>\n",
       "    </tr>\n",
       "    <tr>\n",
       "      <td>1</td>\n",
       "      <td>MOSFET table look-up models for circuit simula...</td>\n",
       "    </tr>\n",
       "    <tr>\n",
       "      <td>2</td>\n",
       "      <td>The verification of the protection mechanisms ...</td>\n",
       "    </tr>\n",
       "    <tr>\n",
       "      <td>3</td>\n",
       "      <td>Another view of functional and multivalued dep...</td>\n",
       "    </tr>\n",
       "    <tr>\n",
       "      <td>4</td>\n",
       "      <td>Entity-relationship diagrams which are in BCNF</td>\n",
       "    </tr>\n",
       "  </tbody>\n",
       "</table>\n",
       "</div>"
      ],
      "text/plain": [
       "                                               Title\n",
       "0                        Book Review: Discover Linux\n",
       "1  MOSFET table look-up models for circuit simula...\n",
       "2  The verification of the protection mechanisms ...\n",
       "3  Another view of functional and multivalued dep...\n",
       "4     Entity-relationship diagrams which are in BCNF"
      ]
     },
     "execution_count": 3,
     "metadata": {},
     "output_type": "execute_result"
    }
   ],
   "source": [
    "data.head()"
   ]
  },
  {
   "cell_type": "code",
   "execution_count": 4,
   "metadata": {},
   "outputs": [],
   "source": [
    "common_texts = data['Title'].values.reshape(100,1).tolist()"
   ]
  },
  {
   "cell_type": "code",
   "execution_count": 5,
   "metadata": {},
   "outputs": [],
   "source": [
    "documents = [TaggedDocument(doc, [i]) for i, doc in enumerate(common_texts)]"
   ]
  },
  {
   "cell_type": "code",
   "execution_count": 6,
   "metadata": {},
   "outputs": [],
   "source": [
    "model = Doc2Vec(documents, vector_size=300, window=2, min_count=1, workers=4)"
   ]
  },
  {
   "cell_type": "code",
   "execution_count": 8,
   "metadata": {},
   "outputs": [
    {
     "data": {
      "text/plain": [
       "[TaggedDocument(words=['Book Review: Discover Linux'], tags=[0]),\n",
       " TaggedDocument(words=['MOSFET table look-up models for circuit simulation'], tags=[1]),\n",
       " TaggedDocument(words=['The verification of the protection mechanisms of high-level language machines'], tags=[2]),\n",
       " TaggedDocument(words=['Another view of functional and multivalued dependencies in the relational database model'], tags=[3]),\n",
       " TaggedDocument(words=['Entity-relationship diagrams which are in BCNF'], tags=[4]),\n",
       " TaggedDocument(words=['The computer comes of age'], tags=[5]),\n",
       " TaggedDocument(words=['Computationally efficient algorithms for a one-time pad scheme'], tags=[6]),\n",
       " TaggedDocument(words=['The hierarchical ordering in Multiattribute files'], tags=[7]),\n",
       " TaggedDocument(words=['Insertion languages'], tags=[8]),\n",
       " TaggedDocument(words=['The Three-Machine No-Wait Flow Shop is NP-Complete'], tags=[9])]"
      ]
     },
     "execution_count": 8,
     "metadata": {},
     "output_type": "execute_result"
    }
   ],
   "source": [
    "documents[:10]"
   ]
  },
  {
   "cell_type": "code",
   "execution_count": 10,
   "metadata": {
    "scrolled": false
   },
   "outputs": [
    {
     "name": "stderr",
     "output_type": "stream",
     "text": [
      "/home/sreekar/miniconda3/envs/stats/lib/python3.7/site-packages/ipykernel_launcher.py:3: DeprecationWarning: Call to deprecated `iter` (Attribute will be removed in 4.0.0, use self.epochs instead).\n",
      "  This is separate from the ipykernel package so we can avoid doing imports until\n"
     ]
    }
   ],
   "source": [
    "max_epochs = 100\n",
    "for epoch in range(max_epochs):\n",
    "    model.train(documents,total_examples=model.corpus_count,epochs=model.iter)\n",
    "    model.alpha -= 0.0002\n",
    "    model.min_alpha = model.alpha"
   ]
  },
  {
   "cell_type": "code",
   "execution_count": 11,
   "metadata": {},
   "outputs": [],
   "source": [
    "# future test document\n",
    "## test_doc = model.infer_vector([\"human\", \"interface\",\"computer\"])"
   ]
  },
  {
   "cell_type": "code",
   "execution_count": 13,
   "metadata": {
    "scrolled": true
   },
   "outputs": [
    {
     "data": {
      "text/plain": [
       "[(45, 0.9998916387557983),\n",
       " (79, 0.999889612197876),\n",
       " (94, 0.9998874664306641),\n",
       " (92, 0.9998854994773865),\n",
       " (34, 0.9998804926872253),\n",
       " (88, 0.9998796582221985),\n",
       " (99, 0.9998791813850403),\n",
       " (15, 0.9998788237571716),\n",
       " (32, 0.9998775720596313),\n",
       " (98, 0.9998762607574463)]"
      ]
     },
     "execution_count": 13,
     "metadata": {},
     "output_type": "execute_result"
    }
   ],
   "source": [
    "# document that has similar title to document 1\n",
    "model.docvecs.most_similar(0)"
   ]
  }
 ],
 "metadata": {
  "kernelspec": {
   "display_name": "Python 3",
   "language": "python",
   "name": "python3"
  },
  "language_info": {
   "codemirror_mode": {
    "name": "ipython",
    "version": 3
   },
   "file_extension": ".py",
   "mimetype": "text/x-python",
   "name": "python",
   "nbconvert_exporter": "python",
   "pygments_lexer": "ipython3",
   "version": "3.7.4"
  }
 },
 "nbformat": 4,
 "nbformat_minor": 2
}
